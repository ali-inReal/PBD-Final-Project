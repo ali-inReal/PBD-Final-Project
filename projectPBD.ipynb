{
 "cells": [
  {
   "cell_type": "markdown",
   "id": "1d8593fc",
   "metadata": {},
   "source": [
    "# Reading Files And Storing them in a list"
   ]
  },
  {
   "cell_type": "code",
   "execution_count": 1,
   "id": "91e5bcc8",
   "metadata": {},
   "outputs": [],
   "source": [
    "import os\n",
    "folderpath = r\"C:\\Users\\Real_\\OneDrive\\Documents\\Articles\"\n",
    "filepaths = [os.path.join(folderpath,name) for name in os.listdir(folderpath)]\n",
    "files = []\n",
    "for path in filepaths:\n",
    "    with open(path, 'r',encoding = 'ISO-8859-1') as f:\n",
    "        file = f.readlines()\n",
    "        files.append(file)"
   ]
  },
  {
   "cell_type": "code",
   "execution_count": 2,
   "id": "5b2c0e45",
   "metadata": {},
   "outputs": [
    {
     "data": {
      "text/plain": [
       "[['Anarchism is a political philosophy that advocates stateless societies often defined as self-governed voluntary institutions, \"ANARCHISM, a social philosophy that rejects authoritarian government and maintains that voluntary institutions are best suited to express man\\\\\\'s natural social tendencies.\" George Woodcock. \"Anarchism\" at The Encyclopedia of Philosophy \"In a society developed on these lines, the voluntary associations which already now begin to cover all the fields of human activity would take a still greater extension so as to substitute themselves for the state in all its functions.\" Peter Kropotkin. \"Anarchism\" from the EncyclopÃ\\x83Â¦dia Britannica \"Anarchism.\" The Shorter Routledge Encyclopedia of Philosophy. 2005. p. 14 \"Anarchism is the view that a society without the state, or government, is both possible and desirable.\" Sheehan, Sean. Anarchism, London: Reaktion Books Ltd., 2004. p. 85 but that several authors have defined as more specific institutions based on non-hierarchical free associations. \"as many anarchists have stressed, it is not government as such that they find objectionable, but the hierarchical forms of government associated with the nation state.\" Judith Suissa. Anarchism and Education: a Philosophical Perspective. Routledge. New York. 2006. p. 7 \"That is why Anarchy, when it works to destroy authority in all its aspects, when it demands the abrogation of laws and the abolition of the mechanism that serves to impose them, when it refuses all hierarchical organisation and preaches free agreement Ã¢\\\\x80\\\\x94 at the same time strives to maintain and enlarge the precious kernel of social customs without which no human or animal society can exist.\" Peter Kropotkin. Anarchism: its philosophy and ideal \"anarchists are opposed to irrational (e.g., illegitimate) authority, in other words, hierarchy Ã¢\\\\x80\\\\x94 hierarchy being the institutionalisation of authority within a society.\" \"B.1 Why are anarchists against authority and hierarchy?\" in An Anarchist FAQ Anarchism holds the state to be undesirable, unnecessary, or harmful.']]"
      ]
     },
     "execution_count": 2,
     "metadata": {},
     "output_type": "execute_result"
    }
   ],
   "source": [
    "files"
   ]
  },
  {
   "cell_type": "markdown",
   "id": "d9616bfe",
   "metadata": {},
   "source": [
    "# Removing punctuations"
   ]
  },
  {
   "cell_type": "code",
   "execution_count": 3,
   "id": "5ecfb9c2",
   "metadata": {},
   "outputs": [],
   "source": [
    "all_data=\" \".join(map(str,files))"
   ]
  },
  {
   "cell_type": "code",
   "execution_count": 4,
   "id": "5cc07a8c",
   "metadata": {},
   "outputs": [
    {
     "data": {
      "text/plain": [
       "'[\\'Anarchism is a political philosophy that advocates stateless societies often defined as self-governed voluntary institutions, \"ANARCHISM, a social philosophy that rejects authoritarian government and maintains that voluntary institutions are best suited to express man\\\\\\\\\\\\\\'s natural social tendencies.\" George Woodcock. \"Anarchism\" at The Encyclopedia of Philosophy \"In a society developed on these lines, the voluntary associations which already now begin to cover all the fields of human activity would take a still greater extension so as to substitute themselves for the state in all its functions.\" Peter Kropotkin. \"Anarchism\" from the EncyclopÃ\\\\x83Â¦dia Britannica \"Anarchism.\" The Shorter Routledge Encyclopedia of Philosophy. 2005. p. 14 \"Anarchism is the view that a society without the state, or government, is both possible and desirable.\" Sheehan, Sean. Anarchism, London: Reaktion Books Ltd., 2004. p. 85 but that several authors have defined as more specific institutions based on non-hierarchical free associations. \"as many anarchists have stressed, it is not government as such that they find objectionable, but the hierarchical forms of government associated with the nation state.\" Judith Suissa. Anarchism and Education: a Philosophical Perspective. Routledge. New York. 2006. p. 7 \"That is why Anarchy, when it works to destroy authority in all its aspects, when it demands the abrogation of laws and the abolition of the mechanism that serves to impose them, when it refuses all hierarchical organisation and preaches free agreement Ã¢\\\\\\\\x80\\\\\\\\x94 at the same time strives to maintain and enlarge the precious kernel of social customs without which no human or animal society can exist.\" Peter Kropotkin. Anarchism: its philosophy and ideal \"anarchists are opposed to irrational (e.g., illegitimate) authority, in other words, hierarchy Ã¢\\\\\\\\x80\\\\\\\\x94 hierarchy being the institutionalisation of authority within a society.\" \"B.1 Why are anarchists against authority and hierarchy?\" in An Anarchist FAQ Anarchism holds the state to be undesirable, unnecessary, or harmful.\\']'"
      ]
     },
     "execution_count": 4,
     "metadata": {},
     "output_type": "execute_result"
    }
   ],
   "source": [
    "all_data"
   ]
  },
  {
   "cell_type": "code",
   "execution_count": 5,
   "id": "97a131ef",
   "metadata": {},
   "outputs": [],
   "source": [
    "import re\n",
    "data_after = re.sub(r'[^\\w\\s]', '', all_data)"
   ]
  },
  {
   "cell_type": "code",
   "execution_count": 6,
   "id": "181fd802",
   "metadata": {},
   "outputs": [
    {
     "data": {
      "text/plain": [
       "'Anarchism is a political philosophy that advocates stateless societies often defined as selfgoverned voluntary institutions ANARCHISM a social philosophy that rejects authoritarian government and maintains that voluntary institutions are best suited to express mans natural social tendencies George Woodcock Anarchism at The Encyclopedia of Philosophy In a society developed on these lines the voluntary associations which already now begin to cover all the fields of human activity would take a still greater extension so as to substitute themselves for the state in all its functions Peter Kropotkin Anarchism from the EncyclopÃx83Âdia Britannica Anarchism The Shorter Routledge Encyclopedia of Philosophy 2005 p 14 Anarchism is the view that a society without the state or government is both possible and desirable Sheehan Sean Anarchism London Reaktion Books Ltd 2004 p 85 but that several authors have defined as more specific institutions based on nonhierarchical free associations as many anarchists have stressed it is not government as such that they find objectionable but the hierarchical forms of government associated with the nation state Judith Suissa Anarchism and Education a Philosophical Perspective Routledge New York 2006 p 7 That is why Anarchy when it works to destroy authority in all its aspects when it demands the abrogation of laws and the abolition of the mechanism that serves to impose them when it refuses all hierarchical organisation and preaches free agreement Ãx80x94 at the same time strives to maintain and enlarge the precious kernel of social customs without which no human or animal society can exist Peter Kropotkin Anarchism its philosophy and ideal anarchists are opposed to irrational eg illegitimate authority in other words hierarchy Ãx80x94 hierarchy being the institutionalisation of authority within a society B1 Why are anarchists against authority and hierarchy in An Anarchist FAQ Anarchism holds the state to be undesirable unnecessary or harmful'"
      ]
     },
     "execution_count": 6,
     "metadata": {},
     "output_type": "execute_result"
    }
   ],
   "source": [
    "data_after"
   ]
  },
  {
   "cell_type": "markdown",
   "id": "b5b30055",
   "metadata": {},
   "source": [
    "# Removing Stop Words"
   ]
  },
  {
   "cell_type": "code",
   "execution_count": 7,
   "id": "8f0fce83",
   "metadata": {},
   "outputs": [
    {
     "name": "stderr",
     "output_type": "stream",
     "text": [
      "[nltk_data] Downloading package stopwords to\n",
      "[nltk_data]     C:\\Users\\Real_\\AppData\\Roaming\\nltk_data...\n",
      "[nltk_data]   Package stopwords is already up-to-date!\n",
      "[nltk_data] Downloading package punkt to\n",
      "[nltk_data]     C:\\Users\\Real_\\AppData\\Roaming\\nltk_data...\n",
      "[nltk_data]   Package punkt is already up-to-date!\n"
     ]
    },
    {
     "name": "stdout",
     "output_type": "stream",
     "text": [
      "['Anarchism', 'political', 'philosophy', 'advocates', 'stateless', 'societies', 'often', 'defined', 'selfgoverned', 'voluntary', 'institutions', 'ANARCHISM', 'social', 'philosophy', 'rejects', 'authoritarian', 'government', 'maintains', 'voluntary', 'institutions', 'best', 'suited', 'express', 'mans', 'natural', 'social', 'tendencies', 'George', 'Woodcock', 'Anarchism', 'The', 'Encyclopedia', 'Philosophy', 'In', 'society', 'developed', 'lines', 'voluntary', 'associations', 'already', 'begin', 'cover', 'fields', 'human', 'activity', 'would', 'still', 'greater', 'extension', 'substitute', 'state', 'functions', 'Peter', 'Kropotkin', 'Anarchism', 'EncyclopÃx83Âdia', 'Britannica', 'Anarchism', 'The', 'Shorter', 'Routledge', 'Encyclopedia', 'Philosophy', '2005', 'p', '14', 'Anarchism', 'view', 'society', 'without', 'state', 'government', 'possible', 'desirable', 'Sheehan', 'Sean', 'Anarchism', 'London', 'Reaktion', 'Books', 'Ltd', '2004', 'p', '85', 'several', 'authors', 'defined', 'specific', 'institutions', 'based', 'nonhierarchical', 'free', 'associations', 'many', 'anarchists', 'stressed', 'government', 'find', 'objectionable', 'hierarchical', 'forms', 'government', 'associated', 'nation', 'state', 'Judith', 'Suissa', 'Anarchism', 'Education', 'Philosophical', 'Perspective', 'Routledge', 'New', 'York', '2006', 'p', '7', 'That', 'Anarchy', 'works', 'destroy', 'authority', 'aspects', 'demands', 'abrogation', 'laws', 'abolition', 'mechanism', 'serves', 'impose', 'refuses', 'hierarchical', 'organisation', 'preaches', 'free', 'agreement', 'Ãx80x94', 'time', 'strives', 'maintain', 'enlarge', 'precious', 'kernel', 'social', 'customs', 'without', 'human', 'animal', 'society', 'exist', 'Peter', 'Kropotkin', 'Anarchism', 'philosophy', 'ideal', 'anarchists', 'opposed', 'irrational', 'illegitimate', 'authority', 'words', 'hierarchy', 'Ãx80x94', 'hierarchy', 'institutionalisation', 'authority', 'within', 'society', 'B1', 'Why', 'anarchists', 'authority', 'hierarchy', 'An', 'Anarchist', 'FAQ', 'Anarchism', 'holds', 'state', 'undesirable', 'unnecessary', 'harmful']\n"
     ]
    }
   ],
   "source": [
    "import nltk\n",
    "from nltk.corpus import stopwords\n",
    "nltk.download('stopwords')\n",
    "nltk.download('punkt')\n",
    "from nltk.tokenize import word_tokenize\n",
    "\n",
    "\n",
    "text_tokens = word_tokenize(data_after)\n",
    "\n",
    "remove_stopWords = [word for word in text_tokens if not word in stopwords.words()]\n",
    "\n",
    "print(remove_stopWords)"
   ]
  },
  {
   "cell_type": "markdown",
   "id": "dd2a0250",
   "metadata": {},
   "source": [
    "# Applying K-Means Clustering"
   ]
  },
  {
   "cell_type": "code",
   "execution_count": 8,
   "id": "c5d1ac0e",
   "metadata": {},
   "outputs": [
    {
     "name": "stdout",
     "output_type": "stream",
     "text": [
      "Top terms per cluster :\n",
      "Cluster 0: \n",
      "london \n",
      "ãx80x94 \n",
      "fields \n",
      "demands \n",
      "desirable \n",
      "destroy \n",
      "developed \n",
      "education \n",
      "encyclopedia \n",
      "encyclopãx83âdia \n",
      "Cluster 1: \n",
      "anarchism \n",
      "philosophy \n",
      "government \n",
      "authority \n",
      "society \n",
      "institutions \n",
      "social \n",
      "voluntary \n",
      "anarchists \n",
      "ãx80x94 \n",
      "Cluster 2: \n",
      "state \n",
      "ãx80x94 \n",
      "faq \n",
      "demands \n",
      "desirable \n",
      "destroy \n",
      "developed \n",
      "education \n",
      "encyclopedia \n",
      "encyclopãx83âdia \n",
      "Cluster 3: \n",
      "hierarchical \n",
      "ãx80x94 \n",
      "fields \n",
      "demands \n",
      "desirable \n",
      "destroy \n",
      "developed \n",
      "education \n",
      "encyclopedia \n",
      "encyclopãx83âdia \n",
      "Cluster 4: \n",
      "hierarchy \n",
      "ãx80x94 \n",
      "fields \n",
      "demands \n",
      "desirable \n",
      "destroy \n",
      "developed \n",
      "education \n",
      "encyclopedia \n",
      "encyclopãx83âdia \n"
     ]
    }
   ],
   "source": [
    "from sklearn.feature_extraction.text import TfidfVectorizer\n",
    "from sklearn.cluster import KMeans\n",
    "from sklearn.metrics import adjusted_rand_score\n",
    "from warnings import simplefilter\n",
    "simplefilter(action = 'ignore',category = FutureWarning)\n",
    "\n",
    "\n",
    "vectorizer = TfidfVectorizer(stop_words = 'english')\n",
    "X = vectorizer.fit_transform(remove_stopWords)\n",
    "\n",
    "true_k =5\n",
    "model = KMeans(n_clusters = true_k,init = 'k-means++',max_iter = 100,n_init = 1)\n",
    "model.fit(X)\n",
    "print(\"Top terms per cluster :\")\n",
    "order_centroids = model.cluster_centers_.argsort()[:,::-1]\n",
    "terms = vectorizer.get_feature_names()\n",
    "for i in range (true_k):\n",
    "    print(\"Cluster %d: \" % i)\n",
    "    for j in order_centroids[i,:10]:\n",
    "        print(\"%s \" % terms[j])"
   ]
  },
  {
   "cell_type": "code",
   "execution_count": 9,
   "id": "ecd47395",
   "metadata": {},
   "outputs": [
    {
     "name": "stdout",
     "output_type": "stream",
     "text": [
      "Guessing: \n",
      "[1]\n"
     ]
    }
   ],
   "source": [
    "print('Guessing: ')\n",
    "Y = vectorizer.transform(['restraint'])\n",
    "guessing = model.predict(Y)\n",
    "print(guessing)"
   ]
  },
  {
   "cell_type": "code",
   "execution_count": null,
   "id": "af33543b",
   "metadata": {},
   "outputs": [],
   "source": []
  },
  {
   "cell_type": "code",
   "execution_count": null,
   "id": "49ae41a4",
   "metadata": {},
   "outputs": [],
   "source": []
  }
 ],
 "metadata": {
  "kernelspec": {
   "display_name": "Python 3 (ipykernel)",
   "language": "python",
   "name": "python3"
  },
  "language_info": {
   "codemirror_mode": {
    "name": "ipython",
    "version": 3
   },
   "file_extension": ".py",
   "mimetype": "text/x-python",
   "name": "python",
   "nbconvert_exporter": "python",
   "pygments_lexer": "ipython3",
   "version": "3.9.12"
  }
 },
 "nbformat": 4,
 "nbformat_minor": 5
}
